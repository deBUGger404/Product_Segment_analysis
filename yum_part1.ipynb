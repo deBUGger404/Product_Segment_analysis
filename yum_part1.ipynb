{
 "cells": [
  {
   "cell_type": "code",
   "execution_count": 1,
   "metadata": {
    "id": "JMgzhyCoTiaR"
   },
   "outputs": [],
   "source": [
    "import pandas as pd\n",
    "import numpy as np"
   ]
  },
  {
   "cell_type": "code",
   "execution_count": 3,
   "metadata": {
    "id": "GJ1N4zBzUMzD"
   },
   "outputs": [],
   "source": [
    "df = pd.read_csv(\"Menu Items.csv\")"
   ]
  },
  {
   "cell_type": "code",
   "execution_count": 4,
   "metadata": {
    "colab": {
     "base_uri": "https://localhost:8080/"
    },
    "id": "OuZUIotk_tA6",
    "outputId": "b1ba89aa-103d-41a7-ef2a-a1e0422ced48"
   },
   "outputs": [
    {
     "data": {
      "text/plain": [
       "(103610, 5)"
      ]
     },
     "execution_count": 4,
     "metadata": {},
     "output_type": "execute_result"
    }
   ],
   "source": [
    "df.shape"
   ]
  },
  {
   "cell_type": "code",
   "execution_count": 5,
   "metadata": {
    "colab": {
     "base_uri": "https://localhost:8080/",
     "height": 337
    },
    "id": "IC71D3NsYulY",
    "outputId": "37011da6-e61d-428c-a24c-710d2bfbba52"
   },
   "outputs": [
    {
     "data": {
      "text/html": [
       "<div>\n",
       "<style scoped>\n",
       "    .dataframe tbody tr th:only-of-type {\n",
       "        vertical-align: middle;\n",
       "    }\n",
       "\n",
       "    .dataframe tbody tr th {\n",
       "        vertical-align: top;\n",
       "    }\n",
       "\n",
       "    .dataframe thead th {\n",
       "        text-align: right;\n",
       "    }\n",
       "</style>\n",
       "<table border=\"1\" class=\"dataframe\">\n",
       "  <thead>\n",
       "    <tr style=\"text-align: right;\">\n",
       "      <th></th>\n",
       "      <th>Restaurant</th>\n",
       "      <th>Section</th>\n",
       "      <th>Item</th>\n",
       "      <th>Description</th>\n",
       "      <th>Price</th>\n",
       "    </tr>\n",
       "  </thead>\n",
       "  <tbody>\n",
       "    <tr>\n",
       "      <th>0</th>\n",
       "      <td>bel aire restaurant diner</td>\n",
       "      <td>cocktails must be 0 to purchase</td>\n",
       "      <td>mixed cocktail must be 0 to purchase</td>\n",
       "      <td>must be 0 to purchase choice of liquor and mix...</td>\n",
       "      <td>$7.99</td>\n",
       "    </tr>\n",
       "    <tr>\n",
       "      <th>1</th>\n",
       "      <td>bel aire restaurant diner</td>\n",
       "      <td>cocktails must be 0 to purchase</td>\n",
       "      <td>shots shots shots must be 0 to purchase</td>\n",
       "      <td>must be 0 to purchase choice of jose cuervo ja...</td>\n",
       "      <td>$3.99</td>\n",
       "    </tr>\n",
       "    <tr>\n",
       "      <th>2</th>\n",
       "      <td>bel aire restaurant diner</td>\n",
       "      <td>cocktails must be 0 to purchase</td>\n",
       "      <td>0 oz wine cup must be 0 to purchase</td>\n",
       "      <td>must be 0 to purchase specify chardonnay red b...</td>\n",
       "      <td>$5.99</td>\n",
       "    </tr>\n",
       "    <tr>\n",
       "      <th>3</th>\n",
       "      <td>bel aire restaurant diner</td>\n",
       "      <td>cocktails must be 0 to purchase</td>\n",
       "      <td>0 oz absolut lemonade must be 0 to purchase</td>\n",
       "      <td>must be 0 to purchase classic lemonade with a ...</td>\n",
       "      <td>$4.99</td>\n",
       "    </tr>\n",
       "    <tr>\n",
       "      <th>4</th>\n",
       "      <td>bel aire restaurant diner</td>\n",
       "      <td>cocktails must be 0 to purchase</td>\n",
       "      <td>0 oz peach sour must be 0 to purchase</td>\n",
       "      <td>must be 0 to purchase bushmill s whiskey muddl...</td>\n",
       "      <td>$7.99</td>\n",
       "    </tr>\n",
       "  </tbody>\n",
       "</table>\n",
       "</div>"
      ],
      "text/plain": [
       "                  Restaurant                          Section  \\\n",
       "0  bel aire restaurant diner  cocktails must be 0 to purchase   \n",
       "1  bel aire restaurant diner  cocktails must be 0 to purchase   \n",
       "2  bel aire restaurant diner  cocktails must be 0 to purchase   \n",
       "3  bel aire restaurant diner  cocktails must be 0 to purchase   \n",
       "4  bel aire restaurant diner  cocktails must be 0 to purchase   \n",
       "\n",
       "                                          Item  \\\n",
       "0         mixed cocktail must be 0 to purchase   \n",
       "1      shots shots shots must be 0 to purchase   \n",
       "2          0 oz wine cup must be 0 to purchase   \n",
       "3  0 oz absolut lemonade must be 0 to purchase   \n",
       "4        0 oz peach sour must be 0 to purchase   \n",
       "\n",
       "                                         Description   Price  \n",
       "0  must be 0 to purchase choice of liquor and mix...  $7.99   \n",
       "1  must be 0 to purchase choice of jose cuervo ja...  $3.99   \n",
       "2  must be 0 to purchase specify chardonnay red b...  $5.99   \n",
       "3  must be 0 to purchase classic lemonade with a ...  $4.99   \n",
       "4  must be 0 to purchase bushmill s whiskey muddl...  $7.99   "
      ]
     },
     "execution_count": 5,
     "metadata": {},
     "output_type": "execute_result"
    }
   ],
   "source": [
    "df.head()"
   ]
  },
  {
   "cell_type": "code",
   "execution_count": 6,
   "metadata": {
    "colab": {
     "base_uri": "https://localhost:8080/"
    },
    "id": "MQW7v6ib-mwi",
    "outputId": "1abaa470-ed9d-47ee-9194-d3c2a0ecb6aa"
   },
   "outputs": [
    {
     "data": {
      "text/plain": [
       "Restaurant         0\n",
       "Section            0\n",
       "Item               5\n",
       "Description    33637\n",
       "Price              0\n",
       "dtype: int64"
      ]
     },
     "execution_count": 6,
     "metadata": {},
     "output_type": "execute_result"
    }
   ],
   "source": [
    "## checking null values\n",
    "df.isna().sum()"
   ]
  },
  {
   "cell_type": "code",
   "execution_count": 7,
   "metadata": {
    "colab": {
     "base_uri": "https://localhost:8080/",
     "height": 175
    },
    "id": "GPn9Fca1-ur5",
    "outputId": "c32064b2-1233-4ca9-ac65-f19ff189c7d8"
   },
   "outputs": [
    {
     "data": {
      "text/html": [
       "<div>\n",
       "<style scoped>\n",
       "    .dataframe tbody tr th:only-of-type {\n",
       "        vertical-align: middle;\n",
       "    }\n",
       "\n",
       "    .dataframe tbody tr th {\n",
       "        vertical-align: top;\n",
       "    }\n",
       "\n",
       "    .dataframe thead th {\n",
       "        text-align: right;\n",
       "    }\n",
       "</style>\n",
       "<table border=\"1\" class=\"dataframe\">\n",
       "  <thead>\n",
       "    <tr style=\"text-align: right;\">\n",
       "      <th></th>\n",
       "      <th>Restaurant</th>\n",
       "      <th>Section</th>\n",
       "      <th>Item</th>\n",
       "      <th>Description</th>\n",
       "      <th>Price</th>\n",
       "    </tr>\n",
       "  </thead>\n",
       "  <tbody>\n",
       "    <tr>\n",
       "      <th>count</th>\n",
       "      <td>103610</td>\n",
       "      <td>103610</td>\n",
       "      <td>103605</td>\n",
       "      <td>69973</td>\n",
       "      <td>103610</td>\n",
       "    </tr>\n",
       "    <tr>\n",
       "      <th>unique</th>\n",
       "      <td>500</td>\n",
       "      <td>3883</td>\n",
       "      <td>53401</td>\n",
       "      <td>39029</td>\n",
       "      <td>1432</td>\n",
       "    </tr>\n",
       "    <tr>\n",
       "      <th>top</th>\n",
       "      <td>china wok</td>\n",
       "      <td>appetizers</td>\n",
       "      <td>0 liter soda</td>\n",
       "      <td>hot and spicy</td>\n",
       "      <td>$9.95</td>\n",
       "    </tr>\n",
       "    <tr>\n",
       "      <th>freq</th>\n",
       "      <td>3884</td>\n",
       "      <td>5899</td>\n",
       "      <td>217</td>\n",
       "      <td>2180</td>\n",
       "      <td>1947</td>\n",
       "    </tr>\n",
       "  </tbody>\n",
       "</table>\n",
       "</div>"
      ],
      "text/plain": [
       "       Restaurant     Section          Item    Description   Price\n",
       "count      103610      103610        103605          69973  103610\n",
       "unique        500        3883         53401          39029    1432\n",
       "top     china wok  appetizers  0 liter soda  hot and spicy  $9.95 \n",
       "freq         3884        5899           217           2180    1947"
      ]
     },
     "execution_count": 7,
     "metadata": {},
     "output_type": "execute_result"
    }
   ],
   "source": [
    "## Information for all columns\n",
    "df.describe()"
   ]
  },
  {
   "cell_type": "code",
   "execution_count": 8,
   "metadata": {
    "colab": {
     "base_uri": "https://localhost:8080/"
    },
    "id": "q20xUGNT---P",
    "outputId": "e2cd1368-5b69-4784-dd7d-90179d84d06c"
   },
   "outputs": [
    {
     "data": {
      "text/plain": [
       "((103610, 5), (94970, 5))"
      ]
     },
     "execution_count": 8,
     "metadata": {},
     "output_type": "execute_result"
    }
   ],
   "source": [
    "## checking for duplicate rows\n",
    "df.shape, df.drop_duplicates().shape"
   ]
  },
  {
   "cell_type": "code",
   "execution_count": 9,
   "metadata": {
    "colab": {
     "base_uri": "https://localhost:8080/"
    },
    "id": "F7HaPQbqd1Gu",
    "outputId": "6f84953c-7985-4bcb-a0ea-70fa9057db3e"
   },
   "outputs": [
    {
     "name": "stderr",
     "output_type": "stream",
     "text": [
      "/opt/conda/lib/python3.7/site-packages/ipykernel_launcher.py:2: FutureWarning: The default value of regex will change from True to False in a future version. In addition, single character regular expressions will *not* be treated as literal strings when regex=True.\n",
      "  \n"
     ]
    }
   ],
   "source": [
    "## converting price column into float\n",
    "df['Price'] = df['Price'].str.replace(\"$\",\"\").astype(float)"
   ]
  },
  {
   "cell_type": "code",
   "execution_count": 10,
   "metadata": {
    "id": "Szqs3ULENk7p"
   },
   "outputs": [],
   "source": [
    "## removing rows where description and item are null\n",
    "df = df[(~df['Description'].isna()) & (~df['Item'].isna())]"
   ]
  },
  {
   "cell_type": "code",
   "execution_count": 11,
   "metadata": {
    "colab": {
     "base_uri": "https://localhost:8080/"
    },
    "id": "Yn57r0DHlJn5",
    "outputId": "93204c1a-21c7-456a-9d87-c26fc315b449"
   },
   "outputs": [
    {
     "data": {
      "text/plain": [
       "Restaurant     0\n",
       "Section        0\n",
       "Item           0\n",
       "Description    0\n",
       "Price          0\n",
       "dtype: int64"
      ]
     },
     "execution_count": 11,
     "metadata": {},
     "output_type": "execute_result"
    }
   ],
   "source": [
    "df.isna().sum()"
   ]
  },
  {
   "cell_type": "code",
   "execution_count": 12,
   "metadata": {
    "id": "dfHfDLnEYwIB"
   },
   "outputs": [],
   "source": [
    "df1 = df.groupby('Restaurant').agg({'Price':['max','mean','count']}).reset_index()"
   ]
  },
  {
   "cell_type": "code",
   "execution_count": 13,
   "metadata": {
    "colab": {
     "base_uri": "https://localhost:8080/"
    },
    "id": "ElwWswXje74P",
    "outputId": "37b3a42b-05d3-4349-c8c9-ed931a1d0cba"
   },
   "outputs": [
    {
     "data": {
      "text/plain": [
       "41.03846153846154"
      ]
     },
     "execution_count": 13,
     "metadata": {},
     "output_type": "execute_result"
    }
   ],
   "source": [
    "max(df1['Price','mean'])"
   ]
  },
  {
   "cell_type": "code",
   "execution_count": 17,
   "metadata": {
    "colab": {
     "base_uri": "https://localhost:8080/",
     "height": 368
    },
    "id": "VZ_Io-bC8U4R",
    "outputId": "59179e1c-7ed0-472d-9816-4811c6b42411"
   },
   "outputs": [
    {
     "data": {
      "text/plain": [
       "array([[<AxesSubplot:title={'center':\"('Price', 'max')\"}>,\n",
       "        <AxesSubplot:title={'center':\"('Price', 'mean')\"}>],\n",
       "       [<AxesSubplot:title={'center':\"('Price', 'count')\"}>,\n",
       "        <AxesSubplot:>]], dtype=object)"
      ]
     },
     "execution_count": 17,
     "metadata": {},
     "output_type": "execute_result"
    },
    {
     "data": {
      "image/png": "[encoded data removed]",
      "text/plain": [
       "<Figure size 432x288 with 4 Axes>"
      ]
     },
     "metadata": {
      "needs_background": "light"
     },
     "output_type": "display_data"
    }
   ],
   "source": [
    "df1.hist()"
   ]
  },
  {
   "cell_type": "code",
   "execution_count": 18,
   "metadata": {
    "colab": {
     "base_uri": "https://localhost:8080/",
     "height": 282
    },
    "id": "8sUr2P0DNg8I",
    "outputId": "3707135a-b487-40ad-bd3a-597084133585"
   },
   "outputs": [
    {
     "data": {
      "text/plain": [
       "<AxesSubplot:>"
      ]
     },
     "execution_count": 18,
     "metadata": {},
     "output_type": "execute_result"
    },
    {
     "data": {
      "image/png": "[encoded data removed]",
      "text/plain": [
       "<Figure size 432x288 with 1 Axes>"
      ]
     },
     "metadata": {
      "needs_background": "light"
     },
     "output_type": "display_data"
    }
   ],
   "source": [
    "df['Price'].hist()"
   ]
  },
  {
   "cell_type": "markdown",
   "metadata": {
    "id": "yue4X51WGemL"
   },
   "source": [
    "                                                            # End Part1"
   ]
  }
 ],
 "metadata": {
  "colab": {
   "collapsed_sections": [],
   "name": "yum_part1.ipynb",
   "provenance": []
  },
  "kernelspec": {
   "display_name": "Python (Local)",
   "language": "python",
   "name": "local-base"
  },
  "language_info": {
   "codemirror_mode": {
    "name": "ipython",
    "version": 3
   },
   "file_extension": ".py",
   "mimetype": "text/x-python",
   "name": "python",
   "nbconvert_exporter": "python",
   "pygments_lexer": "ipython3",
   "version": "3.7.12"
  }
 },
 "nbformat": 4,
 "nbformat_minor": 4
}
